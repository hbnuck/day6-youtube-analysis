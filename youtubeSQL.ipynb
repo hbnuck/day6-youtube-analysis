{
 "cells": [
  {
   "cell_type": "code",
   "execution_count": 22,
   "id": "d5885791",
   "metadata": {},
   "outputs": [
    {
     "name": "stdout",
     "output_type": "stream",
     "text": [
      "                                               Title         Views\n",
      "0  El Chombo - Dame Tu Cosita feat. Cutty Ranks (...  4.034122e+09\n",
      "1           Martin Garrix - Animals (Official Video)  1.582263e+09\n",
      "2  The Weeknd - Save Your Tears (Official Music V...  9.154571e+08\n",
      "3          Maroon 5 - Animals (Official Music Video)  8.264238e+08\n",
      "4  Powfu - death bed (coffee for your head) (Offi...  5.247098e+08\n",
      "5           One Direction - History (Official Video)  4.343522e+08\n",
      "6  PIKOTARO - PPAP (Pen Pineapple Apple Pen) (Lon...  4.254781e+08\n",
      "7        Glass Animals - Heat Waves (Official Video)  3.781645e+08\n",
      "8      Young Money - Bed Rock (Official Music Video)  3.219776e+08\n",
      "9                      Rihanna - California King Bed  3.085010e+08\n"
     ]
    }
   ],
   "source": [
    "import pandas as pd\n",
    "import sqlite3\n",
    "\n",
    "df = pd.read_csv(\"youtube.csv\")\n",
    "conn = sqlite3.connect(\"youtube.db\")\n",
    "df.to_sql(\"video\",conn,if_exists=\"replace\",index=False)\n",
    "query = \"SELECT Title, Views FROM video ORDER BY Views DESC LIMIT 10\"\n",
    "result = pd.read_sql_query(query, conn)\n",
    "print(result)"
   ]
  },
  {
   "cell_type": "code",
   "execution_count": 23,
   "id": "7b08f9d7",
   "metadata": {},
   "outputs": [
    {
     "name": "stdout",
     "output_type": "stream",
     "text": [
      "                                               Title  Comments\n",
      "0  El Chombo - Dame Tu Cosita feat. Cutty Ranks (...  732818.0\n",
      "1   I Opened A Restaurant That Pays You To Eat At It  728774.0\n",
      "2                  $456,000 Squid Game In Real Life!  611757.0\n",
      "3           One Direction - History (Official Video)  434688.0\n",
      "4               history of the entire world, i guess  395657.0\n",
      "5           Martin Garrix - Animals (Official Video)  335455.0\n",
      "6  PIKOTARO - PPAP (Pen Pineapple Apple Pen) (Lon...  294428.0\n",
      "7  The Weeknd - Save Your Tears (Official Music V...  270948.0\n",
      "8                      I Spent 50 Hours Buried Alive  239172.0\n",
      "9       I Gave My 100,000,000th Subscriber An Island  224423.0\n"
     ]
    }
   ],
   "source": [
    "query = \"SELECT Title, Comments FROM video ORDER BY Comments DESC LIMIT 10\"\n",
    "result = pd.read_sql_query(query,conn)\n",
    "print(result)\n"
   ]
  },
  {
   "cell_type": "code",
   "execution_count": 28,
   "id": "0bfbf8cf",
   "metadata": {},
   "outputs": [
    {
     "name": "stdout",
     "output_type": "stream",
     "text": [
      "                                                  Title      Views\n",
      "0     Apple Pay Is Killing the Physical Wallet After...   135612.0\n",
      "1                       The most EXPENSIVE thing I own.  1758063.0\n",
      "2                    My New House Gaming Setup is SICK!  1564007.0\n",
      "3     Petrol Vs Liquid Nitrogen | Freezing Experimen...   922918.0\n",
      "4                        Best Back to School Tech 2022!  1855644.0\n",
      "...                                                 ...        ...\n",
      "1365  Machine Learning Tutorial | Machine Learning B...   130286.0\n",
      "1366  Complete Roadmap for Machine Learning | ML Roa...   319957.0\n",
      "1367                 Should You Learn Machine Learning?   386360.0\n",
      "1368            Todos podemos aprender Machine learning   431421.0\n",
      "1369  Andrew Ng: Deep Learning, Education, and Real-...   226152.0\n",
      "\n",
      "[1370 rows x 2 columns]\n"
     ]
    }
   ],
   "source": [
    "query = \"SELECT Title, Views FROM vedio WHERE Views > 100000\"\n",
    "result = pd.read_sql_query(query,conn)\n",
    "print(result)"
   ]
  }
 ],
 "metadata": {
  "kernelspec": {
   "display_name": "base",
   "language": "python",
   "name": "python3"
  },
  "language_info": {
   "codemirror_mode": {
    "name": "ipython",
    "version": 3
   },
   "file_extension": ".py",
   "mimetype": "text/x-python",
   "name": "python",
   "nbconvert_exporter": "python",
   "pygments_lexer": "ipython3",
   "version": "3.12.7"
  }
 },
 "nbformat": 4,
 "nbformat_minor": 5
}
